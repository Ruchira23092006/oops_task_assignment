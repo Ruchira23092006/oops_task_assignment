{
 "cells": [
  {
   "cell_type": "code",
   "execution_count": null,
   "id": "806b5aa4-2e19-445b-b27a-84c8003ea67e",
   "metadata": {},
   "outputs": [],
   "source": [
    "Q1, Create a vehicle class with an init method having instance variables as name_of_vehicle, max_speed\n",
    "and average_of_vehicle.\n",
    "Q2. Create a child class car from the vehicle class created in Que 1, which will inherit the vehicle class.\n",
    "Create a method named seating_capacity which takes capacity as an argument and returns the name of\n",
    "the vehicle and its seating capacity.\n",
    "Q3. What is multiple inheritance? Write a python code to demonstrate multiple inheritance.\n",
    "Q4. What are getter and setter in python? Create a class and create a getter and a setter method in this\n",
    "class.\n",
    "Q5.What is method overriding in python? Write a python code to demonstrate method overriding."
   ]
  },
  {
   "cell_type": "code",
   "execution_count": 1,
   "id": "99405f7a-fbb8-422c-badb-ee3a8788fa31",
   "metadata": {},
   "outputs": [
    {
     "name": "stdout",
     "output_type": "stream",
     "text": [
      "{'name_of_vehicle': 'exter', 'max_speed': 120, 'average_of_vehicle': 18}\n"
     ]
    }
   ],
   "source": [
    "class vehicle:\n",
    " def __init__(self, name_of_vehicle, max_speed, average_of_vehicle):\n",
    "        self.name_of_vehicle= name_of_vehicle\n",
    "        self.max_speed=max_speed\n",
    "        self.average_of_vehicle= average_of_vehicle\n",
    "v1=vehicle(\"exter\",120,18)\n",
    "print(v1.__dict__)"
   ]
  },
  {
   "cell_type": "code",
   "execution_count": 6,
   "id": "64db6404-ebf8-4357-aa49-0d2b07437efb",
   "metadata": {},
   "outputs": [
    {
     "name": "stdout",
     "output_type": "stream",
     "text": [
      "exter 1\n"
     ]
    }
   ],
   "source": [
    "class car(vehicle):\n",
    "    def seating_capacity(self, capacity):\n",
    "        print( self.name_of_vehicle, capacity)\n",
    "cap1 = car(\"exter\",120,18)\n",
    "cap1.seating_capacity(1)"
   ]
  },
  {
   "cell_type": "code",
   "execution_count": null,
   "id": "5e3a477e-22be-4e10-b23c-a36d8869f4c3",
   "metadata": {},
   "outputs": [],
   "source": [
    "A class inherit the proprety of multiple class is called as Multiple inheritance"
   ]
  },
  {
   "cell_type": "code",
   "execution_count": 9,
   "id": "a8f87d5f-cff5-4a3a-b7a1-4abcab065b01",
   "metadata": {},
   "outputs": [
    {
     "name": "stdout",
     "output_type": "stream",
     "text": [
      "This is women class \n"
     ]
    }
   ],
   "source": [
    "class man :\n",
    "    def __init__(self, age , sex):\n",
    "        self.age = age\n",
    "        self.sex = sex\n",
    "    def display1():\n",
    "        print(\"This is man class \")\n",
    "class women :\n",
    "    def __init__(self, age , sex):\n",
    "        self.age = age\n",
    "        self.sex = sex\n",
    "    def display2():\n",
    "        print(\"This is women class \")\n",
    "\n",
    "class human (man ,women):\n",
    "    pass\n",
    "\n",
    "\n",
    "h1 = human\n",
    "h1.display2()"
   ]
  },
  {
   "cell_type": "code",
   "execution_count": null,
   "id": "68829430-27e5-4ebc-b0e9-1d03bc237c15",
   "metadata": {},
   "outputs": [],
   "source": [
    "getter and setter are the method in python used to access the to the attribute of the class .\n",
    "The getter allow to retrieve and setter modify the data"
   ]
  },
  {
   "cell_type": "code",
   "execution_count": 10,
   "id": "77e49130-9fd5-41d4-bedf-bfef635008bc",
   "metadata": {},
   "outputs": [
    {
     "name": "stdout",
     "output_type": "stream",
     "text": [
      "23\n"
     ]
    }
   ],
   "source": [
    "class car :\n",
    "    speed = 0\n",
    "    def get_speed (self):\n",
    "        return self.speed\n",
    "    def set_speed (self,speed):\n",
    "        self.speed = speed\n",
    "\n",
    "c1 = car()\n",
    "c1.set_speed(23)\n",
    "print(c1.get_speed())\n",
    "    "
   ]
  },
  {
   "cell_type": "code",
   "execution_count": null,
   "id": "b908bb97-4428-461e-8111-2c30372bca67",
   "metadata": {},
   "outputs": [],
   "source": [
    "It is the features of OOPS That allows a subclass to provide a different inplementation\n",
    "for a method that is define in the super class"
   ]
  },
  {
   "cell_type": "code",
   "execution_count": 11,
   "id": "aff1cda2-2780-4499-9af8-ebae418ca514",
   "metadata": {},
   "outputs": [
    {
     "name": "stdout",
     "output_type": "stream",
     "text": [
      "area of the circle is  106.76\n",
      "area of the circle is  810000\n"
     ]
    }
   ],
   "source": [
    "class shape :\n",
    "    def area(self):\n",
    "        print (\"THe area of the shape is 0 \")\n",
    "\n",
    "\n",
    "class circle (shape):\n",
    "    def area(self):\n",
    "        pi = 34\n",
    "        print(\"area of the circle is \", 34*3.14)\n",
    "\n",
    "class squre (shape):\n",
    "    def area(self):\n",
    "        l =30\n",
    "        print(\"area of the circle is \", l**4)      \n",
    "\n",
    "\n",
    "c1 = circle()\n",
    "c1.area()\n",
    "s = squre()\n",
    "s.area()"
   ]
  },
  {
   "cell_type": "code",
   "execution_count": null,
   "id": "08507f2c-9b48-4dc6-b4f3-d29ea8e6ac45",
   "metadata": {},
   "outputs": [],
   "source": []
  }
 ],
 "metadata": {
  "kernelspec": {
   "display_name": "Python 3 (ipykernel)",
   "language": "python",
   "name": "python3"
  },
  "language_info": {
   "codemirror_mode": {
    "name": "ipython",
    "version": 3
   },
   "file_extension": ".py",
   "mimetype": "text/x-python",
   "name": "python",
   "nbconvert_exporter": "python",
   "pygments_lexer": "ipython3",
   "version": "3.10.8"
  }
 },
 "nbformat": 4,
 "nbformat_minor": 5
}
